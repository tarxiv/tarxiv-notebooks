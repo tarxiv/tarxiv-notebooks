{
 "cells": [
  {
   "cell_type": "code",
   "execution_count": 17,
   "id": "51e8584d",
   "metadata": {},
   "outputs": [],
   "source": [
    "import requests\n",
    "import pandas as pd\n",
    "import yaml"
   ]
  },
  {
   "cell_type": "code",
   "execution_count": 18,
   "id": "907db09a",
   "metadata": {},
   "outputs": [],
   "source": [
    "with open('./config.yml') as myfile:\n",
    "    config = yaml.safe_load(myfile)"
   ]
  },
  {
   "cell_type": "code",
   "execution_count": 19,
   "id": "76707405",
   "metadata": {},
   "outputs": [],
   "source": [
    "# ========== CONFIGURATION ==========\n",
    "API_URL = f\"http://{config['host']}:{config['api_port']}\"\n",
    "TOKEN = config['token']\n"
   ]
  },
  {
   "cell_type": "markdown",
   "id": "177ea59a",
   "metadata": {},
   "source": [
    "## Use a relaxed peak mag condition in the payload to get all the data "
   ]
  },
  {
   "cell_type": "code",
   "execution_count": 20,
   "id": "05612c54",
   "metadata": {},
   "outputs": [],
   "source": [
    "\n",
    "# --- Define search payload ---\n",
    "payload = {\n",
    "    \"token\": \"TOKEN\",\n",
    "    \"search\": {\n",
    "        \"peak_mag\": [\n",
    "            {\n",
    "                  \"operator\": \"<\",\n",
    "                  \"value\": 25\n",
    "            }\n",
    "        ]\n",
    "    }\n",
    "}\n",
    "\n"
   ]
  },
  {
   "cell_type": "code",
   "execution_count": 24,
   "id": "6e701355",
   "metadata": {},
   "outputs": [],
   "source": [
    "# --- Send POST request ---\n",
    "search_url = f\"{API_URL}/search_objects\"\n",
    "response = requests.post(search_url, json=payload)"
   ]
  },
  {
   "cell_type": "code",
   "execution_count": 25,
   "id": "dc970fd4",
   "metadata": {},
   "outputs": [
    {
     "data": {
      "text/html": [
       "<div>\n",
       "<style scoped>\n",
       "    .dataframe tbody tr th:only-of-type {\n",
       "        vertical-align: middle;\n",
       "    }\n",
       "\n",
       "    .dataframe tbody tr th {\n",
       "        vertical-align: top;\n",
       "    }\n",
       "\n",
       "    .dataframe thead th {\n",
       "        text-align: right;\n",
       "    }\n",
       "</style>\n",
       "<table border=\"1\" class=\"dataframe\">\n",
       "  <thead>\n",
       "    <tr style=\"text-align: right;\">\n",
       "      <th></th>\n",
       "      <th>tarxiv_id</th>\n",
       "    </tr>\n",
       "  </thead>\n",
       "  <tbody>\n",
       "    <tr>\n",
       "      <th>0</th>\n",
       "      <td>1997bs</td>\n",
       "    </tr>\n",
       "    <tr>\n",
       "      <th>1</th>\n",
       "      <td>2014ib</td>\n",
       "    </tr>\n",
       "    <tr>\n",
       "      <th>2</th>\n",
       "      <td>2017abr</td>\n",
       "    </tr>\n",
       "    <tr>\n",
       "      <th>3</th>\n",
       "      <td>2018mpi</td>\n",
       "    </tr>\n",
       "    <tr>\n",
       "      <th>4</th>\n",
       "      <td>2018mpj</td>\n",
       "    </tr>\n",
       "    <tr>\n",
       "      <th>...</th>\n",
       "      <td>...</td>\n",
       "    </tr>\n",
       "    <tr>\n",
       "      <th>1137</th>\n",
       "      <td>2025nep</td>\n",
       "    </tr>\n",
       "    <tr>\n",
       "      <th>1138</th>\n",
       "      <td>2025pb</td>\n",
       "    </tr>\n",
       "    <tr>\n",
       "      <th>1139</th>\n",
       "      <td>2025pp</td>\n",
       "    </tr>\n",
       "    <tr>\n",
       "      <th>1140</th>\n",
       "      <td>2025qr</td>\n",
       "    </tr>\n",
       "    <tr>\n",
       "      <th>1141</th>\n",
       "      <td>2025ug</td>\n",
       "    </tr>\n",
       "  </tbody>\n",
       "</table>\n",
       "<p>1142 rows × 1 columns</p>\n",
       "</div>"
      ],
      "text/plain": [
       "     tarxiv_id\n",
       "0       1997bs\n",
       "1       2014ib\n",
       "2      2017abr\n",
       "3      2018mpi\n",
       "4      2018mpj\n",
       "...        ...\n",
       "1137   2025nep\n",
       "1138    2025pb\n",
       "1139    2025pp\n",
       "1140    2025qr\n",
       "1141    2025ug\n",
       "\n",
       "[1142 rows x 1 columns]"
      ]
     },
     "execution_count": 25,
     "metadata": {},
     "output_type": "execute_result"
    }
   ],
   "source": [
    "pd.DataFrame(response.json(),  columns=['tarxiv_id'])"
   ]
  },
  {
   "cell_type": "markdown",
   "id": "adac8877",
   "metadata": {},
   "source": [
    "## Let's get some data. Example 2025ug\n"
   ]
  },
  {
   "cell_type": "code",
   "execution_count": 26,
   "id": "0b675791",
   "metadata": {},
   "outputs": [],
   "source": [
    "OBJ_NAME = \"2025ug\"\n",
    "meta_url = f\"{API_URL}/get_object_meta/{OBJ_NAME}\"\n",
    "lc_url = f\"{API_URL}/get_object_lc/{OBJ_NAME}\"\n",
    "payload = {\"token\": TOKEN}"
   ]
  },
  {
   "cell_type": "code",
   "execution_count": 27,
   "id": "bb085ce4",
   "metadata": {},
   "outputs": [],
   "source": [
    "meta_request = requests.post(url = meta_url, json=payload)\n",
    "lc_request = requests.post(url = lc_url, json=payload)"
   ]
  },
  {
   "cell_type": "code",
   "execution_count": 28,
   "id": "b51617bb",
   "metadata": {},
   "outputs": [
    {
     "data": {
      "text/plain": [
       "{'schema': 'https://github.com/astrocatalogs/schema/README.md',\n",
       " 'sources': [{'name': 'tns',\n",
       "   'bibcode': '2021AAS...23742305G',\n",
       "   'reference': 'Gal-Yam et al. 2021',\n",
       "   'alias': 0},\n",
       "  {'name': 'ztf_survey',\n",
       "   'bibcode': '2019PASP..131a8002B',\n",
       "   'reference': 'Belim et al. 2019',\n",
       "   'alias': 3},\n",
       "  {'name': 'fink',\n",
       "   'bibcode': '2021MNRAS.501.3272M',\n",
       "   'reference': 'Möller et al. 2020',\n",
       "   'alias': 4},\n",
       "  {'name': 'mangrove',\n",
       "   'bibcode': '2020MNRAS.492.4768D',\n",
       "   'reference': 'Ducoin et al. 2020',\n",
       "   'alias': 8}],\n",
       " 'identifiers': [{'name': '2025ug', 'source': 0},\n",
       "  {'name': 'ZTF25aaayywb', 'source': 3}],\n",
       " 'ra_deg': [{'value': 160.126969, 'source': 0},\n",
       "  {'value': 160.1269316, 'source': 3}],\n",
       " 'dec_deg': [{'value': -4.9911825, 'source': 0},\n",
       "  {'value': -4.9911522, 'source': 3}],\n",
       " 'ra_hms': [{'value': '10:40:30.473', 'source': 0}],\n",
       " 'dec_dms': [{'value': '-04:59:28.26', 'source': 0}],\n",
       " 'object_type': [{'value': 'TDE', 'source': 0}, {'value': 'TDE', 'source': 0}],\n",
       " 'discovery_date': [{'value': '2025-01-06 09:36:08.000', 'source': 0}],\n",
       " 'reporting_group': [{'value': 'ZTF', 'source': 0}],\n",
       " 'discovery_data_source': [{'value': 'ZTF', 'source': 0}],\n",
       " 'redshift': [{'value': 0.1331, 'source': 0}],\n",
       " 'peak_mag': [{'filter': 'R',\n",
       "   'value': 19.597359,\n",
       "   'mjd_recorded': 60699.46107639978,\n",
       "   'source': 3},\n",
       "  {'filter': 'g',\n",
       "   'value': 19.260962,\n",
       "   'mjd_recorded': 60681.40009259991,\n",
       "   'source': 3}]}"
      ]
     },
     "execution_count": 28,
     "metadata": {},
     "output_type": "execute_result"
    }
   ],
   "source": [
    "meta_request.json()"
   ]
  },
  {
   "cell_type": "code",
   "execution_count": 29,
   "id": "c02e9c91",
   "metadata": {},
   "outputs": [],
   "source": [
    "lc_df = pd.DataFrame(lc_request.json())"
   ]
  },
  {
   "cell_type": "code",
   "execution_count": 30,
   "id": "3c21f7a8",
   "metadata": {},
   "outputs": [
    {
     "data": {
      "text/html": [
       "<div>\n",
       "<style scoped>\n",
       "    .dataframe tbody tr th:only-of-type {\n",
       "        vertical-align: middle;\n",
       "    }\n",
       "\n",
       "    .dataframe tbody tr th {\n",
       "        vertical-align: top;\n",
       "    }\n",
       "\n",
       "    .dataframe thead th {\n",
       "        text-align: right;\n",
       "    }\n",
       "</style>\n",
       "<table border=\"1\" class=\"dataframe\">\n",
       "  <thead>\n",
       "    <tr style=\"text-align: right;\">\n",
       "      <th></th>\n",
       "      <th>mag</th>\n",
       "      <th>mag_err</th>\n",
       "      <th>filter</th>\n",
       "      <th>limit</th>\n",
       "      <th>mjd</th>\n",
       "      <th>unit</th>\n",
       "      <th>survey</th>\n",
       "    </tr>\n",
       "  </thead>\n",
       "  <tbody>\n",
       "    <tr>\n",
       "      <th>0</th>\n",
       "      <td>20.036995</td>\n",
       "      <td>0.136866</td>\n",
       "      <td>g</td>\n",
       "      <td>20.318216</td>\n",
       "      <td>60726.341412</td>\n",
       "      <td>main</td>\n",
       "      <td>ZTF</td>\n",
       "    </tr>\n",
       "    <tr>\n",
       "      <th>1</th>\n",
       "      <td>19.984947</td>\n",
       "      <td>0.161199</td>\n",
       "      <td>R</td>\n",
       "      <td>20.259525</td>\n",
       "      <td>60726.333762</td>\n",
       "      <td>main</td>\n",
       "      <td>ZTF</td>\n",
       "    </tr>\n",
       "    <tr>\n",
       "      <th>2</th>\n",
       "      <td>19.597359</td>\n",
       "      <td>0.206609</td>\n",
       "      <td>R</td>\n",
       "      <td>19.493885</td>\n",
       "      <td>60716.348819</td>\n",
       "      <td>main</td>\n",
       "      <td>ZTF</td>\n",
       "    </tr>\n",
       "    <tr>\n",
       "      <th>3</th>\n",
       "      <td>19.643179</td>\n",
       "      <td>0.164901</td>\n",
       "      <td>R</td>\n",
       "      <td>20.000030</td>\n",
       "      <td>60699.461076</td>\n",
       "      <td>main</td>\n",
       "      <td>ZTF</td>\n",
       "    </tr>\n",
       "    <tr>\n",
       "      <th>4</th>\n",
       "      <td>19.260962</td>\n",
       "      <td>0.161061</td>\n",
       "      <td>g</td>\n",
       "      <td>19.866110</td>\n",
       "      <td>60699.376018</td>\n",
       "      <td>main</td>\n",
       "      <td>ZTF</td>\n",
       "    </tr>\n",
       "    <tr>\n",
       "      <th>5</th>\n",
       "      <td>19.413795</td>\n",
       "      <td>0.162979</td>\n",
       "      <td>g</td>\n",
       "      <td>19.780148</td>\n",
       "      <td>60694.378912</td>\n",
       "      <td>main</td>\n",
       "      <td>ZTF</td>\n",
       "    </tr>\n",
       "    <tr>\n",
       "      <th>6</th>\n",
       "      <td>20.224201</td>\n",
       "      <td>0.210437</td>\n",
       "      <td>g</td>\n",
       "      <td>20.159380</td>\n",
       "      <td>60681.400093</td>\n",
       "      <td>main</td>\n",
       "      <td>ZTF</td>\n",
       "    </tr>\n",
       "  </tbody>\n",
       "</table>\n",
       "</div>"
      ],
      "text/plain": [
       "         mag   mag_err filter      limit           mjd  unit survey\n",
       "0  20.036995  0.136866      g  20.318216  60726.341412  main    ZTF\n",
       "1  19.984947  0.161199      R  20.259525  60726.333762  main    ZTF\n",
       "2  19.597359  0.206609      R  19.493885  60716.348819  main    ZTF\n",
       "3  19.643179  0.164901      R  20.000030  60699.461076  main    ZTF\n",
       "4  19.260962  0.161061      g  19.866110  60699.376018  main    ZTF\n",
       "5  19.413795  0.162979      g  19.780148  60694.378912  main    ZTF\n",
       "6  20.224201  0.210437      g  20.159380  60681.400093  main    ZTF"
      ]
     },
     "execution_count": 30,
     "metadata": {},
     "output_type": "execute_result"
    }
   ],
   "source": [
    "lc_df"
   ]
  },
  {
   "cell_type": "code",
   "execution_count": 31,
   "id": "e131d973",
   "metadata": {},
   "outputs": [
    {
     "data": {
      "text/plain": [
       "array(['g', 'R'], dtype=object)"
      ]
     },
     "execution_count": 31,
     "metadata": {},
     "output_type": "execute_result"
    }
   ],
   "source": [
    "lc_df['filter'].unique()"
   ]
  },
  {
   "cell_type": "code",
   "execution_count": 32,
   "id": "db430a48",
   "metadata": {},
   "outputs": [],
   "source": [
    "filter2col = {'g': 'green',\n",
    "              'R': 'red'\n",
    "             }"
   ]
  },
  {
   "cell_type": "code",
   "execution_count": 33,
   "id": "79b2ee4e",
   "metadata": {},
   "outputs": [],
   "source": [
    "import matplotlib.pyplot as plt"
   ]
  },
  {
   "cell_type": "code",
   "execution_count": 34,
   "id": "31384ffe",
   "metadata": {},
   "outputs": [
    {
     "data": {
      "image/png": "[encoded data removed]",
      "text/plain": [
       "<Figure size 640x480 with 1 Axes>"
      ]
     },
     "metadata": {},
     "output_type": "display_data"
    }
   ],
   "source": [
    "plt.scatter(lc_df['mjd'], lc_df['mag'], color=[filter2col[band] for band in lc_df['filter'].values])\n",
    "plt.gca().invert_yaxis()"
   ]
  },
  {
   "cell_type": "code",
   "execution_count": null,
   "id": "801a6b4e",
   "metadata": {},
   "outputs": [],
   "source": []
  }
 ],
 "metadata": {
  "kernelspec": {
   "display_name": "Python 3 (ipykernel)",
   "language": "python",
   "name": "python3"
  },
  "language_info": {
   "codemirror_mode": {
    "name": "ipython",
    "version": 3
   },
   "file_extension": ".py",
   "mimetype": "text/x-python",
   "name": "python",
   "nbconvert_exporter": "python",
   "pygments_lexer": "ipython3",
   "version": "3.10.9"
  }
 },
 "nbformat": 4,
 "nbformat_minor": 5
}
